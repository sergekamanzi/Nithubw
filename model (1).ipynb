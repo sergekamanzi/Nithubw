{
  "nbformat": 4,
  "nbformat_minor": 0,
  "metadata": {
    "colab": {
      "provenance": [],
      "authorship_tag": "ABX9TyMWKZc+yMmpRxDxeUahtCfT",
      "include_colab_link": true
    },
    "kernelspec": {
      "name": "python3",
      "display_name": "Python 3"
    },
    "language_info": {
      "name": "python"
    }
  },
  "cells": [
    {
      "cell_type": "markdown",
      "metadata": {
        "id": "view-in-github",
        "colab_type": "text"
      },
      "source": [
        "<a href=\"https://colab.research.google.com/github/sergekamanzi/Nithub/blob/main/model.ipynb\" target=\"_parent\"><img src=\"https://colab.research.google.com/assets/colab-badge.svg\" alt=\"Open In Colab\"/></a>"
      ]
    },
    {
      "cell_type": "code",
      "source": [
        "!pip install beautifulsoup4 requests\n",
        "!pip install textblob\n",
        "!pip install scikit-learn flask"
      ],
      "metadata": {
        "colab": {
          "base_uri": "https://localhost:8080/"
        },
        "id": "i9_Rj9b7ndCg",
        "outputId": "3b84d55f-229c-452a-9e0f-5333d30c7f37"
      },
      "execution_count": 5,
      "outputs": [
        {
          "output_type": "stream",
          "name": "stdout",
          "text": [
            "Requirement already satisfied: beautifulsoup4 in /usr/local/lib/python3.11/dist-packages (4.13.3)\n",
            "Requirement already satisfied: requests in /usr/local/lib/python3.11/dist-packages (2.32.3)\n",
            "Requirement already satisfied: soupsieve>1.2 in /usr/local/lib/python3.11/dist-packages (from beautifulsoup4) (2.6)\n",
            "Requirement already satisfied: typing-extensions>=4.0.0 in /usr/local/lib/python3.11/dist-packages (from beautifulsoup4) (4.12.2)\n",
            "Requirement already satisfied: charset-normalizer<4,>=2 in /usr/local/lib/python3.11/dist-packages (from requests) (3.4.1)\n",
            "Requirement already satisfied: idna<4,>=2.5 in /usr/local/lib/python3.11/dist-packages (from requests) (3.10)\n",
            "Requirement already satisfied: urllib3<3,>=1.21.1 in /usr/local/lib/python3.11/dist-packages (from requests) (2.3.0)\n",
            "Requirement already satisfied: certifi>=2017.4.17 in /usr/local/lib/python3.11/dist-packages (from requests) (2025.1.31)\n",
            "Requirement already satisfied: textblob in /usr/local/lib/python3.11/dist-packages (0.19.0)\n",
            "Requirement already satisfied: nltk>=3.9 in /usr/local/lib/python3.11/dist-packages (from textblob) (3.9.1)\n",
            "Requirement already satisfied: click in /usr/local/lib/python3.11/dist-packages (from nltk>=3.9->textblob) (8.1.8)\n",
            "Requirement already satisfied: joblib in /usr/local/lib/python3.11/dist-packages (from nltk>=3.9->textblob) (1.4.2)\n",
            "Requirement already satisfied: regex>=2021.8.3 in /usr/local/lib/python3.11/dist-packages (from nltk>=3.9->textblob) (2024.11.6)\n",
            "Requirement already satisfied: tqdm in /usr/local/lib/python3.11/dist-packages (from nltk>=3.9->textblob) (4.67.1)\n",
            "Requirement already satisfied: scikit-learn in /usr/local/lib/python3.11/dist-packages (1.6.1)\n",
            "Requirement already satisfied: flask in /usr/local/lib/python3.11/dist-packages (3.1.0)\n",
            "Requirement already satisfied: numpy>=1.19.5 in /usr/local/lib/python3.11/dist-packages (from scikit-learn) (1.26.4)\n",
            "Requirement already satisfied: scipy>=1.6.0 in /usr/local/lib/python3.11/dist-packages (from scikit-learn) (1.13.1)\n",
            "Requirement already satisfied: joblib>=1.2.0 in /usr/local/lib/python3.11/dist-packages (from scikit-learn) (1.4.2)\n",
            "Requirement already satisfied: threadpoolctl>=3.1.0 in /usr/local/lib/python3.11/dist-packages (from scikit-learn) (3.5.0)\n",
            "Requirement already satisfied: Werkzeug>=3.1 in /usr/local/lib/python3.11/dist-packages (from flask) (3.1.3)\n",
            "Requirement already satisfied: Jinja2>=3.1.2 in /usr/local/lib/python3.11/dist-packages (from flask) (3.1.5)\n",
            "Requirement already satisfied: itsdangerous>=2.2 in /usr/local/lib/python3.11/dist-packages (from flask) (2.2.0)\n",
            "Requirement already satisfied: click>=8.1.3 in /usr/local/lib/python3.11/dist-packages (from flask) (8.1.8)\n",
            "Requirement already satisfied: blinker>=1.9 in /usr/local/lib/python3.11/dist-packages (from flask) (1.9.0)\n",
            "Requirement already satisfied: MarkupSafe>=2.0 in /usr/local/lib/python3.11/dist-packages (from Jinja2>=3.1.2->flask) (3.0.2)\n"
          ]
        }
      ]
    },
    {
      "cell_type": "code",
      "source": [
        "import requests\n",
        "from bs4 import BeautifulSoup\n",
        "import re\n",
        "\n",
        "# Function to scrape article\n",
        "def scrape_article(url):\n",
        "    response = requests.get(url)\n",
        "    soup = BeautifulSoup(response.content, 'html.parser')\n",
        "    paragraphs = [p.text for p in soup.find_all('p')]\n",
        "    return ' '.join(paragraphs)\n",
        "\n",
        "# URL of the news article (you can change this to any news website)\n",
        "url = 'https://www.bbc.com/news/world-60525350'\n",
        "article_text = scrape_article(url)\n",
        "\n",
        "# Split the article text into sentences\n",
        "sentences = re.split(r'(?<!\\w\\.\\w.)(?<![A-Z][a-z]\\.)(?<=\\.|\\?)\\s', article_text)\n",
        "print(sentences[:10])  # Show the first 10 sentences\n",
        "\n",
        "# Limit to 200 sentences\n",
        "sentences = sentences[:200]\n"
      ],
      "metadata": {
        "colab": {
          "base_uri": "https://localhost:8080/"
        },
        "id": "0mCr0gGjoCMu",
        "outputId": "f4a6d22d-8136-4196-f0ef-5e3f037c14ec"
      },
      "execution_count": 3,
      "outputs": [
        {
          "output_type": "stream",
          "name": "stdout",
          "text": [
            "['Sir Keir Starmer said securing a lasting peace in Ukraine was \"essential\" to deter Vladimir Putin from future aggression.', \" Europe's hastily convened security summit in Paris is proof of leaders' anxiety about their role in defending Ukraine, the BBC's Katya Adler writes.\", \"It comes as Donald Trump's envoy says Europe will not be involved in peace talks to end the war.\", \" There has been no increase in radiation levels at the plant, Ukraine's president says.\", 'How are Russia and Ukraine placed after three years of fighting and with Donald Trump suggesting talks on ending the war could begin soon?', \"Europe's hastily convened security summit in Paris is proof of leaders' anxiety about their role in defending Ukraine, the BBC's Katya Adler writes.\", 'Poland\\'s PM said if Europe fails \"to spend big on defence now, we will be forced to spend 10 times more\" during war.', 'Different narratives from senior US officials on the future of Ukraine have sewn confusion in Europe?', \"It comes as Donald Trump's envoy says Europe will not be involved in peace talks to end the war.\", \" Donald Trump's phone call with Putin has shocked both Ukraine's president Zelensky and allies alike, but is it enough to start peace talks?\"]\n"
          ]
        }
      ]
    },
    {
      "cell_type": "code",
      "source": [
        "from textblob import TextBlob\n",
        "\n",
        "# Function to get sentiment\n",
        "def annotate_sentiment(sentence):\n",
        "    analysis = TextBlob(sentence)\n",
        "    if analysis.sentiment.polarity > 0:\n",
        "        return 'Positive'\n",
        "    elif analysis.sentiment.polarity == 0:\n",
        "        return 'Neutral'\n",
        "    else:\n",
        "        return 'Negative'\n",
        "\n",
        "# Annotate all sentences\n",
        "annotated_sentences = [(sentence, annotate_sentiment(sentence)) for sentence in sentences]\n",
        "\n",
        "# Show the first 10 annotated sentences\n",
        "for sentence, sentiment in annotated_sentences[:10]:\n",
        "    print(f'{sentence} -> {sentiment}')\n",
        "\n",
        "# Save as a CSV file\n",
        "import pandas as pd\n",
        "\n",
        "df = pd.DataFrame(annotated_sentences, columns=['Sentence', 'Sentiment'])\n",
        "df.to_csv('annotated_sentences.csv', index=False)\n"
      ],
      "metadata": {
        "colab": {
          "base_uri": "https://localhost:8080/"
        },
        "id": "70IwIvIVoMmj",
        "outputId": "ae50dc40-c131-4528-9cc1-699141a12d36"
      },
      "execution_count": 4,
      "outputs": [
        {
          "output_type": "stream",
          "name": "stdout",
          "text": [
            "Sir Keir Starmer said securing a lasting peace in Ukraine was \"essential\" to deter Vladimir Putin from future aggression. -> Neutral\n",
            " Europe's hastily convened security summit in Paris is proof of leaders' anxiety about their role in defending Ukraine, the BBC's Katya Adler writes. -> Neutral\n",
            "It comes as Donald Trump's envoy says Europe will not be involved in peace talks to end the war. -> Neutral\n",
            " There has been no increase in radiation levels at the plant, Ukraine's president says. -> Neutral\n",
            "How are Russia and Ukraine placed after three years of fighting and with Donald Trump suggesting talks on ending the war could begin soon? -> Neutral\n",
            "Europe's hastily convened security summit in Paris is proof of leaders' anxiety about their role in defending Ukraine, the BBC's Katya Adler writes. -> Neutral\n",
            "Poland's PM said if Europe fails \"to spend big on defence now, we will be forced to spend 10 times more\" during war. -> Negative\n",
            "Different narratives from senior US officials on the future of Ukraine have sewn confusion in Europe? -> Neutral\n",
            "It comes as Donald Trump's envoy says Europe will not be involved in peace talks to end the war. -> Neutral\n",
            " Donald Trump's phone call with Putin has shocked both Ukraine's president Zelensky and allies alike, but is it enough to start peace talks? -> Negative\n"
          ]
        }
      ]
    },
    {
      "cell_type": "code",
      "source": [
        "from sklearn.model_selection import train_test_split\n",
        "from sklearn.feature_extraction.text import TfidfVectorizer\n",
        "from sklearn.linear_model import LogisticRegression\n",
        "import pickle\n",
        "\n",
        "# Load the annotated data\n",
        "df = pd.read_csv('annotated_sentences.csv')\n",
        "\n",
        "# Split data into training and test sets\n",
        "X_train, X_test, y_train, y_test = train_test_split(df['Sentence'], df['Sentiment'], test_size=0.2, random_state=42)\n",
        "\n",
        "# Convert text data to TF-IDF features\n",
        "vectorizer = TfidfVectorizer(max_features=5000)\n",
        "X_train_tfidf = vectorizer.fit_transform(X_train)\n",
        "X_test_tfidf = vectorizer.transform(X_test)\n",
        "\n",
        "# Train a Logistic Regression model\n",
        "model = LogisticRegression()\n",
        "model.fit(X_train_tfidf, y_train)\n",
        "\n",
        "# Save the model and vectorizer\n",
        "pickle.dump(model, open('sentiment_model.pkl', 'wb'))\n",
        "pickle.dump(vectorizer, open('vectorizer.pkl', 'wb'))\n",
        "\n",
        "# Evaluate model performance\n",
        "print(f'Model accuracy: {model.score(X_test_tfidf, y_test)}')\n"
      ],
      "metadata": {
        "colab": {
          "base_uri": "https://localhost:8080/"
        },
        "id": "YfGMeF8LoVc7",
        "outputId": "cff3e747-3a72-458a-b76c-038a8d22e6b2"
      },
      "execution_count": 6,
      "outputs": [
        {
          "output_type": "stream",
          "name": "stdout",
          "text": [
            "Model accuracy: 0.7142857142857143\n"
          ]
        }
      ]
    },
    {
      "cell_type": "code",
      "source": [],
      "metadata": {
        "id": "qFL_CEe3sNLM"
      },
      "execution_count": null,
      "outputs": []
    },
    {
      "cell_type": "code",
      "source": [
        "import pickle\n",
        "from sklearn.feature_extraction.text import TfidfVectorizer\n",
        "\n",
        "# Load the pre-trained model and vectorizer\n",
        "model = pickle.load(open('sentiment_model.pkl', 'rb'))\n",
        "vectorizer = pickle.load(open('vectorizer.pkl', 'rb'))\n",
        "\n",
        "# Function to predict sentiment\n",
        "def predict_sentiment(sentence):\n",
        "    # Transform the input sentence to TF-IDF features\n",
        "    sentence_tfidf = vectorizer.transform([sentence])\n",
        "\n",
        "    # Predict the sentiment using the pre-trained model\n",
        "    prediction = model.predict(sentence_tfidf)[0]\n",
        "\n",
        "    return prediction\n",
        "\n",
        "# Get input from the user\n",
        "user_input = input(\"Enter a sentence to predict its sentiment: \")\n",
        "\n",
        "# Predict and print the sentiment\n",
        "predicted_sentiment = predict_sentiment(user_input)\n",
        "print(f'Sentiment: {predicted_sentiment}')\n"
      ],
      "metadata": {
        "colab": {
          "base_uri": "https://localhost:8080/"
        },
        "id": "en7jr-Q2s0bp",
        "outputId": "273c09b8-cb11-4a0e-ac77-7a1c99d738a2"
      },
      "execution_count": 11,
      "outputs": [
        {
          "output_type": "stream",
          "name": "stdout",
          "text": [
            "Enter a sentence to predict its sentiment: hey what up\n",
            "Sentiment: Neutral\n"
          ]
        }
      ]
    }
  ]
}